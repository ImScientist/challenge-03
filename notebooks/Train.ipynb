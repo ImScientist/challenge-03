{
 "cells": [
  {
   "cell_type": "code",
   "execution_count": 1,
   "metadata": {},
   "outputs": [],
   "source": [
    "import os\n",
    "os.chdir('..')"
   ]
  },
  {
   "cell_type": "code",
   "execution_count": 2,
   "metadata": {},
   "outputs": [],
   "source": [
    "%load_ext dotenv\n",
    "%dotenv -o .env"
   ]
  },
  {
   "cell_type": "code",
   "execution_count": 3,
   "metadata": {},
   "outputs": [],
   "source": [
    "DATA_DIR = os.environ['DATA_DIR']\n",
    "RESULTS_DIR = os.environ['RESULTS_DIR']"
   ]
  },
  {
   "cell_type": "markdown",
   "metadata": {},
   "source": [
    "### Train the model"
   ]
  },
  {
   "cell_type": "code",
   "execution_count": 4,
   "metadata": {},
   "outputs": [],
   "source": [
    "import os\n",
    "import json\n",
    "import datetime\n",
    "import argparse\n",
    "import lightgbm as lgb\n",
    "from ta.preprocess import get_data\n",
    "from ta.training import get_feature_names, get_loss_fct_weights\n",
    "from typing import Dict\n",
    "\n",
    "DATA_DIR = os.environ['DATA_DIR']\n",
    "RESULTS_DIR = os.environ['RESULTS_DIR']\n",
    "\n",
    "data_dir = DATA_DIR\n",
    "results_dir = RESULTS_DIR\n",
    "t_train = datetime.datetime(2017, 4, 29)\n",
    "t_val = datetime.datetime(2017, 5, 1)\n",
    "lgb_parameters = {\n",
    "        'boosting_type': 'gbdt',\n",
    "        'objective': 'binary',\n",
    "        'metric': ['binary', 'auc'],\n",
    "        'first_metric_only': True,\n",
    "\n",
    "        'num_iterations': 500,\n",
    "        'num_leaves': 11,\n",
    "        'min_data_in_leaf': 30,\n",
    "\n",
    "        'learning_rate': 0.03,\n",
    "        'feature_fraction': 0.5,\n",
    "        'bagging_fraction': 0.5,\n",
    "        'bagging_freq': 1,\n",
    "\n",
    "        'lambda_l2': 0.1\n",
    "    }"
   ]
  },
  {
   "cell_type": "code",
   "execution_count": 20,
   "metadata": {},
   "outputs": [],
   "source": [
    "os.makedirs(results_dir, exist_ok=True)\n",
    "\n",
    "data, le, le_countries = get_data(\n",
    "    data_dir=data_dir,\n",
    "    load_data=True,\n",
    "    save_data=False,\n",
    "    countries_overwrite=False,\n",
    "    nrows=None,\n",
    "    google_api_key=None\n",
    ")\n",
    "\n",
    "contiuous_columns, categorical_columns, target_col, data_info = \\\n",
    "    get_feature_names(data)\n",
    "\n",
    "train_cond = data['ts'] < t_train\n",
    "val_cond = data['ts'].between(t_train, t_val)\n",
    "test_cond = data['ts'] > t_val\n",
    "\n",
    "weights_train = get_loss_fct_weights(data, train_cond, target_col)\n",
    "weights_val = get_loss_fct_weights(data, val_cond, target_col)\n",
    "weights_test = get_loss_fct_weights(data, test_cond, target_col)\n",
    "\n",
    "lgb_train = lgb.Dataset(\n",
    "    data=data.loc[train_cond, contiuous_columns + categorical_columns],\n",
    "    label=data.loc[train_cond, target_col],\n",
    "    weight=weights_train,\n",
    "    categorical_feature=categorical_columns,\n",
    "    free_raw_data=False)\n",
    "\n",
    "lgb_val = lgb.Dataset(\n",
    "    data=data.loc[val_cond, contiuous_columns + categorical_columns],\n",
    "    label=data.loc[val_cond, target_col],\n",
    "    weight=weights_val,\n",
    "    categorical_feature=categorical_columns,\n",
    "    free_raw_data=False)\n",
    "\n",
    "lgb_test = lgb.Dataset(\n",
    "    data=data.loc[test_cond, contiuous_columns + categorical_columns],\n",
    "    label=data.loc[test_cond, target_col],\n",
    "    weight=weights_test,\n",
    "    # feature_name=features,\n",
    "    categorical_feature=categorical_columns,\n",
    "    free_raw_data=False)"
   ]
  },
  {
   "cell_type": "code",
   "execution_count": 21,
   "metadata": {},
   "outputs": [
    {
     "name": "stderr",
     "output_type": "stream",
     "text": [
      "/Users/A.IVA/opt/anaconda3/envs/ta/lib/python3.7/site-packages/lightgbm/engine.py:148: UserWarning: Found `num_iterations` in params. Will use it instead of argument\n",
      "  warnings.warn(\"Found `{}` in params. Will use it instead of argument\".format(alias))\n",
      "/Users/A.IVA/opt/anaconda3/envs/ta/lib/python3.7/site-packages/lightgbm/basic.py:1291: UserWarning: Using categorical_feature in Dataset.\n",
      "  warnings.warn('Using categorical_feature in Dataset.')\n"
     ]
    },
    {
     "name": "stdout",
     "output_type": "stream",
     "text": [
      "Training until validation scores don't improve for 50 rounds\n",
      "[20]\ttrain's binary_logloss: 0.434533\ttrain's auc: 0.970976\tval's binary_logloss: 0.420851\tval's auc: 0.981318\n",
      "[40]\ttrain's binary_logloss: 0.314691\ttrain's auc: 0.973819\tval's binary_logloss: 0.296052\tval's auc: 0.981814\n",
      "[60]\ttrain's binary_logloss: 0.2525\ttrain's auc: 0.975719\tval's binary_logloss: 0.232756\tval's auc: 0.981837\n",
      "[80]\ttrain's binary_logloss: 0.219522\ttrain's auc: 0.977789\tval's binary_logloss: 0.204058\tval's auc: 0.9826\n",
      "[100]\ttrain's binary_logloss: 0.200447\ttrain's auc: 0.978905\tval's binary_logloss: 0.189634\tval's auc: 0.983181\n",
      "[120]\ttrain's binary_logloss: 0.186004\ttrain's auc: 0.980118\tval's binary_logloss: 0.18228\tval's auc: 0.983089\n",
      "[140]\ttrain's binary_logloss: 0.174246\ttrain's auc: 0.981269\tval's binary_logloss: 0.178358\tval's auc: 0.983075\n",
      "[160]\ttrain's binary_logloss: 0.165501\ttrain's auc: 0.982248\tval's binary_logloss: 0.17622\tval's auc: 0.9831\n",
      "[180]\ttrain's binary_logloss: 0.158544\ttrain's auc: 0.98308\tval's binary_logloss: 0.178458\tval's auc: 0.982756\n",
      "[200]\ttrain's binary_logloss: 0.152482\ttrain's auc: 0.98385\tval's binary_logloss: 0.179261\tval's auc: 0.982385\n",
      "Early stopping, best iteration is:\n",
      "[162]\ttrain's binary_logloss: 0.164501\ttrain's auc: 0.98238\tval's binary_logloss: 0.176121\tval's auc: 0.983015\n",
      "Evaluated only: binary_logloss\n"
     ]
    }
   ],
   "source": [
    "evals_result = dict()\n",
    "\n",
    "gbm = lgb.train(\n",
    "    params=lgb_parameters,\n",
    "    train_set=lgb_train,\n",
    "    early_stopping_rounds=50,\n",
    "    valid_names=['train', 'val'],\n",
    "    valid_sets=[lgb_train, lgb_val],\n",
    "    verbose_eval=20,\n",
    "    evals_result=evals_result)\n"
   ]
  },
  {
   "cell_type": "code",
   "execution_count": null,
   "metadata": {},
   "outputs": [],
   "source": []
  },
  {
   "cell_type": "code",
   "execution_count": 22,
   "metadata": {},
   "outputs": [],
   "source": [
    "y_train = lgb_train.label\n",
    "y_val = lgb_val.label\n",
    "y_test = lgb_test.label.values\n",
    "\n",
    "y_hat_train = gbm.predict(lgb_train.data)\n",
    "y_hat_val = gbm.predict(lgb_val.data)\n",
    "y_hat_test = gbm.predict(lgb_test.data)"
   ]
  },
  {
   "cell_type": "code",
   "execution_count": null,
   "metadata": {},
   "outputs": [],
   "source": []
  },
  {
   "cell_type": "code",
   "execution_count": 23,
   "metadata": {},
   "outputs": [],
   "source": [
    "from sklearn.metrics import auc, roc_curve, confusion_matrix"
   ]
  },
  {
   "cell_type": "code",
   "execution_count": 24,
   "metadata": {},
   "outputs": [
    {
     "name": "stdout",
     "output_type": "stream",
     "text": [
      "0.9823804591207745\n",
      "0.9830152623262862\n",
      "0.9807941603807236\n"
     ]
    }
   ],
   "source": [
    "# AUC \n",
    "\n",
    "fpr, tpr, thresholds = roc_curve(lgb_train.label, y_hat_train, pos_label=1)\n",
    "print(auc(fpr, tpr))\n",
    "\n",
    "fpr, tpr, thresholds = roc_curve(lgb_val.label, y_hat_val, pos_label=1)\n",
    "print(auc(fpr, tpr))\n",
    "\n",
    "fpr, tpr, thresholds = roc_curve(lgb_test.label, y_hat_test, pos_label=1)\n",
    "print(auc(fpr, tpr))"
   ]
  },
  {
   "cell_type": "code",
   "execution_count": 33,
   "metadata": {},
   "outputs": [
    {
     "data": {
      "text/plain": [
       "array([[26877,  1564],\n",
       "       [   80,  1262]])"
      ]
     },
     "metadata": {},
     "output_type": "display_data"
    },
    {
     "data": {
      "text/plain": [
       "array([[11012,   380],\n",
       "       [   29,   275]])"
      ]
     },
     "metadata": {},
     "output_type": "display_data"
    },
    {
     "data": {
      "text/plain": [
       "array([[4051,  206],\n",
       "       [  10,  152]])"
      ]
     },
     "metadata": {},
     "output_type": "display_data"
    }
   ],
   "source": [
    "# Confusion matrix\n",
    "# TN  FP\n",
    "# FN  TP\n",
    "threshold = 0.6\n",
    "\n",
    "display(confusion_matrix(y_train, (y_hat_train>threshold)*1))\n",
    "display(confusion_matrix(y_val, (y_hat_val>threshold)*1))\n",
    "display(confusion_matrix(y_test, (y_hat_test>threshold)*1))"
   ]
  },
  {
   "cell_type": "code",
   "execution_count": 34,
   "metadata": {},
   "outputs": [],
   "source": [
    "# y_train.sum(), (y_hat_train>0.6).sum()"
   ]
  },
  {
   "cell_type": "code",
   "execution_count": null,
   "metadata": {},
   "outputs": [],
   "source": []
  }
 ],
 "metadata": {
  "kernelspec": {
   "display_name": "ta",
   "language": "python",
   "name": "ta"
  },
  "language_info": {
   "codemirror_mode": {
    "name": "ipython",
    "version": 3
   },
   "file_extension": ".py",
   "mimetype": "text/x-python",
   "name": "python",
   "nbconvert_exporter": "python",
   "pygments_lexer": "ipython3",
   "version": "3.7.7"
  }
 },
 "nbformat": 4,
 "nbformat_minor": 4
}
